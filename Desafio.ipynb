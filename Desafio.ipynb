{
 "cells": [
  {
   "cell_type": "markdown",
   "id": "fde7fccb-0448-4b8b-a97d-94812f14285c",
   "metadata": {},
   "source": [
    "# Estatística - Probabilidade e Amostragem \n",
    "## Desafio Final"
   ]
  },
  {
   "cell_type": "markdown",
   "id": "d899083f-e34b-4d75-bc5c-9bfa9ff67227",
   "metadata": {},
   "source": [
    "Considerando a base de dados de populacao_brasileira.json responda as questões abaixo (os dados são fictícios).\n",
    "\n",
    "Você é uma pesquisadora desenvolvendo uma análise sobre as características da força de trabalho nos estados brasileiros. Responda as perguntas abaixo:\n",
    "\n",
    "* 1. Considere pessoas fluentes em inglês, qual a probabilidade complementar? Ou seja, qual a probabilidade de escolhermos uma pessoa aleatória e ela não ser fluente em inglês. Considere fluente quem tem o nível avançado.\n",
    "* 2. Se uma pessoa escolhida aleatoriamente for de Alagoas ou do Pará, qual é a probabilidade de ela ter uma renda superior a 5 mil reais?\n",
    "* 3. Descubra a probabilidade de uma pessoa ter ensino superior completo no estado do Amazonas. Qual a probabilidade da quinta pessoa que você conversar, que é amazonense, ter ensino superior completo?\n",
    "* 4. Considerando a renda das pessoas do nosso conjunto, podemos dizer que a renda de uma pessoa brasileira está na sua maioria em que faixa (faça faixa de 1.500 reais)? Qual é a sua função densidade de probabilidade?\n",
    "* 5. Calcule a média e a variância da renda da amostra. Depois faça a distribuição normal, inclua o gráfico.\n",
    "* 6. Primeiro considere a probabilidade encontrada no nosso conjunto de pessoas com escolaridade de pós-graduação. Considerando a amostra de população brasileira com 1 milhão de habitantes, qual a probabilidade de encontrarmos 243 mil pessoas com pós-graduação?\n",
    "* 7. Somando as densidades nós temos a função de densidade acumulada. Considerando a coluna ‘Escolaridade’ faça a função de densidade acumulada discreta para cada nível de escolaridade.\n",
    "* 8. Qual a margem de erro amostral da proporção populacional considerando a proporção de pessoas com nível de inglês intermediário?\n",
    "* 9. Calcula a renda da população. Qual a probabilidade de encontrar 60 pessoas com uma renda mil reais superior à média?\n",
    "* 10. Qual a probabilidade de escolhermos alguém do Sudeste que seja homem, com ensino fundamental e com renda maior que 2 mil reais por mês?"
   ]
  },
  {
   "cell_type": "code",
   "execution_count": 57,
   "id": "c7a61ca5-518b-4877-ace3-b048bc9f2bf7",
   "metadata": {},
   "outputs": [],
   "source": [
    "import pandas as pd \n",
    "import numpy as np\n",
    "from scipy.stats import binom\n",
    "import matplotlib.pyplot as plt\n",
    "import seaborn as sns\n",
    "import statistics as sts\n",
    "import scipy.stats as stats\n",
    "import math"
   ]
  },
  {
   "cell_type": "markdown",
   "id": "e6387906-2587-42a1-999d-06701c0b0a85",
   "metadata": {},
   "source": [
    "### Leitura da base"
   ]
  },
  {
   "cell_type": "code",
   "execution_count": 2,
   "id": "dbd05937-dcfa-4b1e-a753-dc67a884bb9b",
   "metadata": {},
   "outputs": [
    {
     "data": {
      "text/html": [
       "<div>\n",
       "<style scoped>\n",
       "    .dataframe tbody tr th:only-of-type {\n",
       "        vertical-align: middle;\n",
       "    }\n",
       "\n",
       "    .dataframe tbody tr th {\n",
       "        vertical-align: top;\n",
       "    }\n",
       "\n",
       "    .dataframe thead th {\n",
       "        text-align: right;\n",
       "    }\n",
       "</style>\n",
       "<table border=\"1\" class=\"dataframe\">\n",
       "  <thead>\n",
       "    <tr style=\"text-align: right;\">\n",
       "      <th></th>\n",
       "      <th>Unnamed: 0</th>\n",
       "      <th>estado</th>\n",
       "      <th>idade</th>\n",
       "      <th>escolaridade</th>\n",
       "      <th>nível de proficiência em inglês</th>\n",
       "      <th>renda</th>\n",
       "      <th>sexo</th>\n",
       "    </tr>\n",
       "  </thead>\n",
       "  <tbody>\n",
       "    <tr>\n",
       "      <th>0</th>\n",
       "      <td>0</td>\n",
       "      <td>MA</td>\n",
       "      <td>56</td>\n",
       "      <td>Fundamental</td>\n",
       "      <td>Intermediário</td>\n",
       "      <td>4006.29</td>\n",
       "      <td>F</td>\n",
       "    </tr>\n",
       "    <tr>\n",
       "      <th>1</th>\n",
       "      <td>1</td>\n",
       "      <td>BA</td>\n",
       "      <td>46</td>\n",
       "      <td>Superior</td>\n",
       "      <td>Básico</td>\n",
       "      <td>2423.11</td>\n",
       "      <td>M</td>\n",
       "    </tr>\n",
       "    <tr>\n",
       "      <th>2</th>\n",
       "      <td>2</td>\n",
       "      <td>AM</td>\n",
       "      <td>32</td>\n",
       "      <td>Fundamental</td>\n",
       "      <td>Intermediário</td>\n",
       "      <td>3835.69</td>\n",
       "      <td>M</td>\n",
       "    </tr>\n",
       "    <tr>\n",
       "      <th>3</th>\n",
       "      <td>3</td>\n",
       "      <td>CE</td>\n",
       "      <td>60</td>\n",
       "      <td>Superior</td>\n",
       "      <td>Básico</td>\n",
       "      <td>1870.29</td>\n",
       "      <td>M</td>\n",
       "    </tr>\n",
       "    <tr>\n",
       "      <th>4</th>\n",
       "      <td>4</td>\n",
       "      <td>SE</td>\n",
       "      <td>25</td>\n",
       "      <td>Fundamental</td>\n",
       "      <td>Avançado</td>\n",
       "      <td>3529.80</td>\n",
       "      <td>M</td>\n",
       "    </tr>\n",
       "  </tbody>\n",
       "</table>\n",
       "</div>"
      ],
      "text/plain": [
       "   Unnamed: 0 estado  idade escolaridade nível de proficiência em inglês  \\\n",
       "0           0     MA     56  Fundamental                   Intermediário   \n",
       "1           1     BA     46     Superior                          Básico   \n",
       "2           2     AM     32  Fundamental                   Intermediário   \n",
       "3           3     CE     60     Superior                          Básico   \n",
       "4           4     SE     25  Fundamental                        Avançado   \n",
       "\n",
       "     renda sexo  \n",
       "0  4006.29    F  \n",
       "1  2423.11    M  \n",
       "2  3835.69    M  \n",
       "3  1870.29    M  \n",
       "4  3529.80    M  "
      ]
     },
     "execution_count": 2,
     "metadata": {},
     "output_type": "execute_result"
    }
   ],
   "source": [
    "df = pd.read_csv(\"populacao_brasileira.csv\")\n",
    "df.head(5)"
   ]
  },
  {
   "cell_type": "code",
   "execution_count": 6,
   "id": "ca1dd893-0f44-411e-a1f0-51ebbe8e99aa",
   "metadata": {},
   "outputs": [
    {
     "name": "stdout",
     "output_type": "stream",
     "text": [
      "<class 'pandas.core.frame.DataFrame'>\n",
      "RangeIndex: 1000 entries, 0 to 999\n",
      "Data columns (total 7 columns):\n",
      " #   Column                           Non-Null Count  Dtype  \n",
      "---  ------                           --------------  -----  \n",
      " 0   Unnamed: 0                       1000 non-null   int64  \n",
      " 1   estado                           1000 non-null   object \n",
      " 2   idade                            1000 non-null   int64  \n",
      " 3   escolaridade                     1000 non-null   object \n",
      " 4   nível de proficiência em inglês  1000 non-null   object \n",
      " 5   renda                            1000 non-null   float64\n",
      " 6   sexo                             1000 non-null   object \n",
      "dtypes: float64(1), int64(2), object(4)\n",
      "memory usage: 54.8+ KB\n"
     ]
    }
   ],
   "source": [
    "df.info()"
   ]
  },
  {
   "cell_type": "code",
   "execution_count": 10,
   "id": "ca2ed898-1fdb-420a-a764-86785cff8382",
   "metadata": {},
   "outputs": [
    {
     "data": {
      "text/plain": [
       "(1000, 7)"
      ]
     },
     "execution_count": 10,
     "metadata": {},
     "output_type": "execute_result"
    }
   ],
   "source": [
    "df.shape"
   ]
  },
  {
   "cell_type": "markdown",
   "id": "413623d5-d064-42ec-af89-8a4c0efa9f8f",
   "metadata": {},
   "source": [
    "### 1. Considere pessoas fluentes em inglês, qual a probabilidade complementar? Ou seja, qual a probabilidade de escolhermos uma pessoa aleatória e ela não ser fluente em inglês. Considere fluente quem tem o nível avançado."
   ]
  },
  {
   "cell_type": "code",
   "execution_count": 8,
   "id": "75f2d02e-a174-4c86-9a9d-a8ffec0310bd",
   "metadata": {},
   "outputs": [
    {
     "data": {
      "text/plain": [
       "Avançado         344\n",
       "Intermediário    329\n",
       "Básico           327\n",
       "Name: nível de proficiência em inglês, dtype: int64"
      ]
     },
     "execution_count": 8,
     "metadata": {},
     "output_type": "execute_result"
    }
   ],
   "source": [
    "df[\"nível de proficiência em inglês\"].value_counts()"
   ]
  },
  {
   "cell_type": "markdown",
   "id": "6c440aac-9439-4b77-92b7-effd9081fde1",
   "metadata": {},
   "source": [
    "P(A) = Probabilidade de ser fluente em inglês"
   ]
  },
  {
   "cell_type": "code",
   "execution_count": 41,
   "id": "b0a04673-70b0-42db-b344-ff0a4317b80f",
   "metadata": {},
   "outputs": [],
   "source": [
    "fluentes = df.loc[df[\"nível de proficiência em inglês\"] == \"Avançado\"]"
   ]
  },
  {
   "cell_type": "code",
   "execution_count": 53,
   "id": "89dc1be2-1d81-465b-b825-72613d3ec9ab",
   "metadata": {},
   "outputs": [],
   "source": [
    "prob_ser_fluente = fluentes[\"Unnamed: 0\"].count()/1000"
   ]
  },
  {
   "cell_type": "code",
   "execution_count": 54,
   "id": "dd0c7c8a-f8fc-4311-a5e8-28ae094d5b09",
   "metadata": {},
   "outputs": [
    {
     "data": {
      "text/plain": [
       "0.344"
      ]
     },
     "execution_count": 54,
     "metadata": {},
     "output_type": "execute_result"
    }
   ],
   "source": [
    "prob_ser_fluente"
   ]
  },
  {
   "cell_type": "markdown",
   "id": "2d10bab3-d3ae-4f43-a109-5af5e9553bbe",
   "metadata": {},
   "source": [
    "P(A') complementar = Probabilidade de não ser fluente em inglês\n",
    "1 - P(A)"
   ]
  },
  {
   "cell_type": "code",
   "execution_count": 52,
   "id": "a35481a8-ed28-4d89-a2c9-1551d83806bc",
   "metadata": {},
   "outputs": [
    {
     "name": "stdout",
     "output_type": "stream",
     "text": [
      "Probabilidade de não ser fluente é: 65.60%\n"
     ]
    }
   ],
   "source": [
    "probabilidade = (1 - prob_ser_fluente) * 100\n",
    "print(f\"Probabilidade de não ser fluente é: {probabilidade:.2f}%\")"
   ]
  },
  {
   "cell_type": "markdown",
   "id": "3ebc45d3-9eba-4d67-a93f-18c4828bbae2",
   "metadata": {},
   "source": [
    "### 2. Se uma pessoa escolhida aleatoriamente for de Alagoas ou do Pará, qual é a probabilidade de ela ter uma renda superior a 5 mil reais?"
   ]
  },
  {
   "cell_type": "code",
   "execution_count": 85,
   "id": "c0edb687-1e6e-4a26-b12b-386338044494",
   "metadata": {
    "tags": []
   },
   "outputs": [
    {
     "data": {
      "text/html": [
       "<div>\n",
       "<style scoped>\n",
       "    .dataframe tbody tr th:only-of-type {\n",
       "        vertical-align: middle;\n",
       "    }\n",
       "\n",
       "    .dataframe tbody tr th {\n",
       "        vertical-align: top;\n",
       "    }\n",
       "\n",
       "    .dataframe thead th {\n",
       "        text-align: right;\n",
       "    }\n",
       "</style>\n",
       "<table border=\"1\" class=\"dataframe\">\n",
       "  <thead>\n",
       "    <tr style=\"text-align: right;\">\n",
       "      <th></th>\n",
       "      <th>Unnamed: 0</th>\n",
       "      <th>estado</th>\n",
       "      <th>idade</th>\n",
       "      <th>escolaridade</th>\n",
       "      <th>nível de proficiência em inglês</th>\n",
       "      <th>renda</th>\n",
       "      <th>sexo</th>\n",
       "    </tr>\n",
       "  </thead>\n",
       "  <tbody>\n",
       "    <tr>\n",
       "      <th>17</th>\n",
       "      <td>17</td>\n",
       "      <td>PA</td>\n",
       "      <td>19</td>\n",
       "      <td>Médio</td>\n",
       "      <td>Básico</td>\n",
       "      <td>2588.12</td>\n",
       "      <td>M</td>\n",
       "    </tr>\n",
       "    <tr>\n",
       "      <th>32</th>\n",
       "      <td>32</td>\n",
       "      <td>PA</td>\n",
       "      <td>33</td>\n",
       "      <td>Superior</td>\n",
       "      <td>Intermediário</td>\n",
       "      <td>3018.42</td>\n",
       "      <td>F</td>\n",
       "    </tr>\n",
       "    <tr>\n",
       "      <th>74</th>\n",
       "      <td>74</td>\n",
       "      <td>PA</td>\n",
       "      <td>48</td>\n",
       "      <td>Fundamental</td>\n",
       "      <td>Intermediário</td>\n",
       "      <td>3279.97</td>\n",
       "      <td>M</td>\n",
       "    </tr>\n",
       "    <tr>\n",
       "      <th>106</th>\n",
       "      <td>106</td>\n",
       "      <td>AL</td>\n",
       "      <td>52</td>\n",
       "      <td>Superior</td>\n",
       "      <td>Básico</td>\n",
       "      <td>2754.26</td>\n",
       "      <td>F</td>\n",
       "    </tr>\n",
       "    <tr>\n",
       "      <th>114</th>\n",
       "      <td>114</td>\n",
       "      <td>AL</td>\n",
       "      <td>26</td>\n",
       "      <td>Fundamental</td>\n",
       "      <td>Intermediário</td>\n",
       "      <td>2731.11</td>\n",
       "      <td>F</td>\n",
       "    </tr>\n",
       "    <tr>\n",
       "      <th>...</th>\n",
       "      <td>...</td>\n",
       "      <td>...</td>\n",
       "      <td>...</td>\n",
       "      <td>...</td>\n",
       "      <td>...</td>\n",
       "      <td>...</td>\n",
       "      <td>...</td>\n",
       "    </tr>\n",
       "    <tr>\n",
       "      <th>972</th>\n",
       "      <td>972</td>\n",
       "      <td>AL</td>\n",
       "      <td>22</td>\n",
       "      <td>Pós-graduação</td>\n",
       "      <td>Avançado</td>\n",
       "      <td>1858.31</td>\n",
       "      <td>M</td>\n",
       "    </tr>\n",
       "    <tr>\n",
       "      <th>976</th>\n",
       "      <td>976</td>\n",
       "      <td>AL</td>\n",
       "      <td>36</td>\n",
       "      <td>Médio</td>\n",
       "      <td>Avançado</td>\n",
       "      <td>2917.32</td>\n",
       "      <td>F</td>\n",
       "    </tr>\n",
       "    <tr>\n",
       "      <th>977</th>\n",
       "      <td>977</td>\n",
       "      <td>AL</td>\n",
       "      <td>37</td>\n",
       "      <td>Fundamental</td>\n",
       "      <td>Intermediário</td>\n",
       "      <td>2878.25</td>\n",
       "      <td>F</td>\n",
       "    </tr>\n",
       "    <tr>\n",
       "      <th>982</th>\n",
       "      <td>982</td>\n",
       "      <td>AL</td>\n",
       "      <td>18</td>\n",
       "      <td>Superior</td>\n",
       "      <td>Intermediário</td>\n",
       "      <td>4221.03</td>\n",
       "      <td>F</td>\n",
       "    </tr>\n",
       "    <tr>\n",
       "      <th>987</th>\n",
       "      <td>987</td>\n",
       "      <td>PA</td>\n",
       "      <td>28</td>\n",
       "      <td>Pós-graduação</td>\n",
       "      <td>Avançado</td>\n",
       "      <td>4088.75</td>\n",
       "      <td>M</td>\n",
       "    </tr>\n",
       "  </tbody>\n",
       "</table>\n",
       "<p>79 rows × 7 columns</p>\n",
       "</div>"
      ],
      "text/plain": [
       "     Unnamed: 0 estado  idade   escolaridade nível de proficiência em inglês  \\\n",
       "17           17     PA     19          Médio                          Básico   \n",
       "32           32     PA     33       Superior                   Intermediário   \n",
       "74           74     PA     48    Fundamental                   Intermediário   \n",
       "106         106     AL     52       Superior                          Básico   \n",
       "114         114     AL     26    Fundamental                   Intermediário   \n",
       "..          ...    ...    ...            ...                             ...   \n",
       "972         972     AL     22  Pós-graduação                        Avançado   \n",
       "976         976     AL     36          Médio                        Avançado   \n",
       "977         977     AL     37    Fundamental                   Intermediário   \n",
       "982         982     AL     18       Superior                   Intermediário   \n",
       "987         987     PA     28  Pós-graduação                        Avançado   \n",
       "\n",
       "       renda sexo  \n",
       "17   2588.12    M  \n",
       "32   3018.42    F  \n",
       "74   3279.97    M  \n",
       "106  2754.26    F  \n",
       "114  2731.11    F  \n",
       "..       ...  ...  \n",
       "972  1858.31    M  \n",
       "976  2917.32    F  \n",
       "977  2878.25    F  \n",
       "982  4221.03    F  \n",
       "987  4088.75    M  \n",
       "\n",
       "[79 rows x 7 columns]"
      ]
     },
     "execution_count": 85,
     "metadata": {},
     "output_type": "execute_result"
    }
   ],
   "source": [
    "alagoas_para = df.loc[(df['estado'] == 'AL') | (df['estado'] == 'PA')]\n",
    "alagoas_para"
   ]
  },
  {
   "cell_type": "markdown",
   "id": "2de6efe7-e794-4aa9-a854-3189bcf1c5b9",
   "metadata": {},
   "source": [
    "Probabilidade de renda ser menor que 5 mil"
   ]
  },
  {
   "cell_type": "code",
   "execution_count": 88,
   "id": "ef474788-24b1-49c8-bd86-10f14e4f24b1",
   "metadata": {},
   "outputs": [
    {
     "data": {
      "text/plain": [
       "75"
      ]
     },
     "execution_count": 88,
     "metadata": {},
     "output_type": "execute_result"
    }
   ],
   "source": [
    "renda_menor_5 = len(alagoas_para['Unnamed: 0'].loc[df['renda'] < 5000])\n",
    "renda_menor_5"
   ]
  },
  {
   "cell_type": "code",
   "execution_count": null,
   "id": "680599da-33c6-46a7-8c23-d0343f03f0d7",
   "metadata": {},
   "outputs": [],
   "source": [
    "prob_menor_5 = renda_menor_5/len(alagoas_para['Unnamed: 0'])"
   ]
  },
  {
   "cell_type": "code",
   "execution_count": null,
   "id": "acb705be-e135-4fd8-87fd-45a415d419f2",
   "metadata": {},
   "outputs": [
    {
     "data": {
      "text/plain": [
       "0.9493670886075949"
      ]
     },
     "execution_count": 66,
     "metadata": {},
     "output_type": "execute_result"
    }
   ],
   "source": [
    "prob_menor_5"
   ]
  },
  {
   "cell_type": "markdown",
   "id": "ec261f6e-1817-47da-8a3e-f1c561f5e98c",
   "metadata": {},
   "source": [
    "Probabilidade de renda ser maior que 5 mil"
   ]
  },
  {
   "cell_type": "code",
   "execution_count": 89,
   "id": "8ec74296-65c7-4823-9507-f966b19f02fe",
   "metadata": {},
   "outputs": [
    {
     "name": "stdout",
     "output_type": "stream",
     "text": [
      "Probabilidade de ter renda maior que 5 mil é de: 5.06%\n"
     ]
    }
   ],
   "source": [
    "prob_maior = (1 - prob_menor_5)*100\n",
    "print(f\"Probabilidade de ter renda maior que 5 mil é de: {prob_maior:.2f}%\")"
   ]
  },
  {
   "cell_type": "markdown",
   "id": "7502b06e-c0c1-44dd-a951-b30207b4489b",
   "metadata": {},
   "source": [
    "### 3. Descubra a probabilidade de uma pessoa ter ensino superior completo no estado do Amazonas. Qual a probabilidade da quinta pessoa que você conversar, que é amazonense, ter ensino superior completo?"
   ]
  },
  {
   "cell_type": "code",
   "execution_count": 105,
   "id": "d15de2d6-7a91-4099-927d-8015dcf3f45c",
   "metadata": {},
   "outputs": [
    {
     "data": {
      "text/plain": [
       "38"
      ]
     },
     "execution_count": 105,
     "metadata": {},
     "output_type": "execute_result"
    }
   ],
   "source": [
    "amazonas = df.loc[df['estado'] == 'AM']\n",
    "amazonas['Unnamed: 0'].count()"
   ]
  },
  {
   "cell_type": "code",
   "execution_count": 107,
   "id": "284ad16c-7360-4bef-b5a9-e852aa6ba9f7",
   "metadata": {
    "collapsed": true,
    "jupyter": {
     "outputs_hidden": true
    },
    "tags": []
   },
   "outputs": [
    {
     "data": {
      "text/html": [
       "<div>\n",
       "<style scoped>\n",
       "    .dataframe tbody tr th:only-of-type {\n",
       "        vertical-align: middle;\n",
       "    }\n",
       "\n",
       "    .dataframe tbody tr th {\n",
       "        vertical-align: top;\n",
       "    }\n",
       "\n",
       "    .dataframe thead th {\n",
       "        text-align: right;\n",
       "    }\n",
       "</style>\n",
       "<table border=\"1\" class=\"dataframe\">\n",
       "  <thead>\n",
       "    <tr style=\"text-align: right;\">\n",
       "      <th></th>\n",
       "      <th>Unnamed: 0</th>\n",
       "      <th>estado</th>\n",
       "      <th>idade</th>\n",
       "      <th>escolaridade</th>\n",
       "      <th>nível de proficiência em inglês</th>\n",
       "      <th>renda</th>\n",
       "      <th>sexo</th>\n",
       "    </tr>\n",
       "  </thead>\n",
       "  <tbody>\n",
       "    <tr>\n",
       "      <th>2</th>\n",
       "      <td>2</td>\n",
       "      <td>AM</td>\n",
       "      <td>32</td>\n",
       "      <td>Fundamental</td>\n",
       "      <td>Intermediário</td>\n",
       "      <td>3835.69</td>\n",
       "      <td>M</td>\n",
       "    </tr>\n",
       "    <tr>\n",
       "      <th>5</th>\n",
       "      <td>5</td>\n",
       "      <td>AM</td>\n",
       "      <td>38</td>\n",
       "      <td>Fundamental</td>\n",
       "      <td>Avançado</td>\n",
       "      <td>4441.57</td>\n",
       "      <td>F</td>\n",
       "    </tr>\n",
       "    <tr>\n",
       "      <th>13</th>\n",
       "      <td>13</td>\n",
       "      <td>AM</td>\n",
       "      <td>57</td>\n",
       "      <td>Médio</td>\n",
       "      <td>Básico</td>\n",
       "      <td>2844.32</td>\n",
       "      <td>M</td>\n",
       "    </tr>\n",
       "    <tr>\n",
       "      <th>23</th>\n",
       "      <td>23</td>\n",
       "      <td>AM</td>\n",
       "      <td>38</td>\n",
       "      <td>Médio</td>\n",
       "      <td>Intermediário</td>\n",
       "      <td>5075.40</td>\n",
       "      <td>M</td>\n",
       "    </tr>\n",
       "    <tr>\n",
       "      <th>45</th>\n",
       "      <td>45</td>\n",
       "      <td>AM</td>\n",
       "      <td>31</td>\n",
       "      <td>Pós-graduação</td>\n",
       "      <td>Básico</td>\n",
       "      <td>5270.69</td>\n",
       "      <td>F</td>\n",
       "    </tr>\n",
       "    <tr>\n",
       "      <th>54</th>\n",
       "      <td>54</td>\n",
       "      <td>AM</td>\n",
       "      <td>25</td>\n",
       "      <td>Superior</td>\n",
       "      <td>Intermediário</td>\n",
       "      <td>3478.98</td>\n",
       "      <td>M</td>\n",
       "    </tr>\n",
       "    <tr>\n",
       "      <th>97</th>\n",
       "      <td>97</td>\n",
       "      <td>AM</td>\n",
       "      <td>41</td>\n",
       "      <td>Superior</td>\n",
       "      <td>Intermediário</td>\n",
       "      <td>1345.14</td>\n",
       "      <td>F</td>\n",
       "    </tr>\n",
       "    <tr>\n",
       "      <th>149</th>\n",
       "      <td>149</td>\n",
       "      <td>AM</td>\n",
       "      <td>21</td>\n",
       "      <td>Superior</td>\n",
       "      <td>Básico</td>\n",
       "      <td>2625.18</td>\n",
       "      <td>F</td>\n",
       "    </tr>\n",
       "    <tr>\n",
       "      <th>195</th>\n",
       "      <td>195</td>\n",
       "      <td>AM</td>\n",
       "      <td>49</td>\n",
       "      <td>Fundamental</td>\n",
       "      <td>Básico</td>\n",
       "      <td>1297.42</td>\n",
       "      <td>M</td>\n",
       "    </tr>\n",
       "    <tr>\n",
       "      <th>230</th>\n",
       "      <td>230</td>\n",
       "      <td>AM</td>\n",
       "      <td>33</td>\n",
       "      <td>Pós-graduação</td>\n",
       "      <td>Intermediário</td>\n",
       "      <td>2373.03</td>\n",
       "      <td>M</td>\n",
       "    </tr>\n",
       "    <tr>\n",
       "      <th>248</th>\n",
       "      <td>248</td>\n",
       "      <td>AM</td>\n",
       "      <td>57</td>\n",
       "      <td>Médio</td>\n",
       "      <td>Avançado</td>\n",
       "      <td>3833.92</td>\n",
       "      <td>M</td>\n",
       "    </tr>\n",
       "    <tr>\n",
       "      <th>258</th>\n",
       "      <td>258</td>\n",
       "      <td>AM</td>\n",
       "      <td>47</td>\n",
       "      <td>Médio</td>\n",
       "      <td>Intermediário</td>\n",
       "      <td>2960.44</td>\n",
       "      <td>M</td>\n",
       "    </tr>\n",
       "    <tr>\n",
       "      <th>330</th>\n",
       "      <td>330</td>\n",
       "      <td>AM</td>\n",
       "      <td>21</td>\n",
       "      <td>Pós-graduação</td>\n",
       "      <td>Avançado</td>\n",
       "      <td>3658.54</td>\n",
       "      <td>M</td>\n",
       "    </tr>\n",
       "    <tr>\n",
       "      <th>344</th>\n",
       "      <td>344</td>\n",
       "      <td>AM</td>\n",
       "      <td>63</td>\n",
       "      <td>Pós-graduação</td>\n",
       "      <td>Básico</td>\n",
       "      <td>2510.56</td>\n",
       "      <td>F</td>\n",
       "    </tr>\n",
       "    <tr>\n",
       "      <th>366</th>\n",
       "      <td>366</td>\n",
       "      <td>AM</td>\n",
       "      <td>44</td>\n",
       "      <td>Fundamental</td>\n",
       "      <td>Avançado</td>\n",
       "      <td>3191.10</td>\n",
       "      <td>F</td>\n",
       "    </tr>\n",
       "    <tr>\n",
       "      <th>407</th>\n",
       "      <td>407</td>\n",
       "      <td>AM</td>\n",
       "      <td>60</td>\n",
       "      <td>Pós-graduação</td>\n",
       "      <td>Intermediário</td>\n",
       "      <td>1929.92</td>\n",
       "      <td>F</td>\n",
       "    </tr>\n",
       "    <tr>\n",
       "      <th>423</th>\n",
       "      <td>423</td>\n",
       "      <td>AM</td>\n",
       "      <td>33</td>\n",
       "      <td>Pós-graduação</td>\n",
       "      <td>Intermediário</td>\n",
       "      <td>4329.15</td>\n",
       "      <td>F</td>\n",
       "    </tr>\n",
       "    <tr>\n",
       "      <th>425</th>\n",
       "      <td>425</td>\n",
       "      <td>AM</td>\n",
       "      <td>59</td>\n",
       "      <td>Pós-graduação</td>\n",
       "      <td>Intermediário</td>\n",
       "      <td>3709.00</td>\n",
       "      <td>F</td>\n",
       "    </tr>\n",
       "    <tr>\n",
       "      <th>454</th>\n",
       "      <td>454</td>\n",
       "      <td>AM</td>\n",
       "      <td>33</td>\n",
       "      <td>Fundamental</td>\n",
       "      <td>Básico</td>\n",
       "      <td>2752.82</td>\n",
       "      <td>F</td>\n",
       "    </tr>\n",
       "    <tr>\n",
       "      <th>483</th>\n",
       "      <td>483</td>\n",
       "      <td>AM</td>\n",
       "      <td>49</td>\n",
       "      <td>Pós-graduação</td>\n",
       "      <td>Intermediário</td>\n",
       "      <td>2426.30</td>\n",
       "      <td>F</td>\n",
       "    </tr>\n",
       "    <tr>\n",
       "      <th>486</th>\n",
       "      <td>486</td>\n",
       "      <td>AM</td>\n",
       "      <td>62</td>\n",
       "      <td>Pós-graduação</td>\n",
       "      <td>Básico</td>\n",
       "      <td>4727.54</td>\n",
       "      <td>F</td>\n",
       "    </tr>\n",
       "    <tr>\n",
       "      <th>599</th>\n",
       "      <td>599</td>\n",
       "      <td>AM</td>\n",
       "      <td>29</td>\n",
       "      <td>Médio</td>\n",
       "      <td>Intermediário</td>\n",
       "      <td>1772.39</td>\n",
       "      <td>F</td>\n",
       "    </tr>\n",
       "    <tr>\n",
       "      <th>601</th>\n",
       "      <td>601</td>\n",
       "      <td>AM</td>\n",
       "      <td>27</td>\n",
       "      <td>Fundamental</td>\n",
       "      <td>Básico</td>\n",
       "      <td>3701.17</td>\n",
       "      <td>M</td>\n",
       "    </tr>\n",
       "    <tr>\n",
       "      <th>664</th>\n",
       "      <td>664</td>\n",
       "      <td>AM</td>\n",
       "      <td>54</td>\n",
       "      <td>Fundamental</td>\n",
       "      <td>Básico</td>\n",
       "      <td>3122.30</td>\n",
       "      <td>M</td>\n",
       "    </tr>\n",
       "    <tr>\n",
       "      <th>687</th>\n",
       "      <td>687</td>\n",
       "      <td>AM</td>\n",
       "      <td>41</td>\n",
       "      <td>Fundamental</td>\n",
       "      <td>Avançado</td>\n",
       "      <td>2870.18</td>\n",
       "      <td>F</td>\n",
       "    </tr>\n",
       "    <tr>\n",
       "      <th>695</th>\n",
       "      <td>695</td>\n",
       "      <td>AM</td>\n",
       "      <td>45</td>\n",
       "      <td>Pós-graduação</td>\n",
       "      <td>Básico</td>\n",
       "      <td>5579.71</td>\n",
       "      <td>M</td>\n",
       "    </tr>\n",
       "    <tr>\n",
       "      <th>722</th>\n",
       "      <td>722</td>\n",
       "      <td>AM</td>\n",
       "      <td>35</td>\n",
       "      <td>Superior</td>\n",
       "      <td>Avançado</td>\n",
       "      <td>3558.33</td>\n",
       "      <td>M</td>\n",
       "    </tr>\n",
       "    <tr>\n",
       "      <th>733</th>\n",
       "      <td>733</td>\n",
       "      <td>AM</td>\n",
       "      <td>51</td>\n",
       "      <td>Superior</td>\n",
       "      <td>Básico</td>\n",
       "      <td>3609.14</td>\n",
       "      <td>F</td>\n",
       "    </tr>\n",
       "    <tr>\n",
       "      <th>756</th>\n",
       "      <td>756</td>\n",
       "      <td>AM</td>\n",
       "      <td>63</td>\n",
       "      <td>Superior</td>\n",
       "      <td>Avançado</td>\n",
       "      <td>3081.83</td>\n",
       "      <td>M</td>\n",
       "    </tr>\n",
       "    <tr>\n",
       "      <th>768</th>\n",
       "      <td>768</td>\n",
       "      <td>AM</td>\n",
       "      <td>56</td>\n",
       "      <td>Fundamental</td>\n",
       "      <td>Básico</td>\n",
       "      <td>3028.18</td>\n",
       "      <td>M</td>\n",
       "    </tr>\n",
       "    <tr>\n",
       "      <th>795</th>\n",
       "      <td>795</td>\n",
       "      <td>AM</td>\n",
       "      <td>44</td>\n",
       "      <td>Fundamental</td>\n",
       "      <td>Intermediário</td>\n",
       "      <td>4490.73</td>\n",
       "      <td>F</td>\n",
       "    </tr>\n",
       "    <tr>\n",
       "      <th>804</th>\n",
       "      <td>804</td>\n",
       "      <td>AM</td>\n",
       "      <td>22</td>\n",
       "      <td>Médio</td>\n",
       "      <td>Avançado</td>\n",
       "      <td>3436.94</td>\n",
       "      <td>F</td>\n",
       "    </tr>\n",
       "    <tr>\n",
       "      <th>822</th>\n",
       "      <td>822</td>\n",
       "      <td>AM</td>\n",
       "      <td>40</td>\n",
       "      <td>Superior</td>\n",
       "      <td>Básico</td>\n",
       "      <td>2984.69</td>\n",
       "      <td>F</td>\n",
       "    </tr>\n",
       "    <tr>\n",
       "      <th>858</th>\n",
       "      <td>858</td>\n",
       "      <td>AM</td>\n",
       "      <td>26</td>\n",
       "      <td>Superior</td>\n",
       "      <td>Intermediário</td>\n",
       "      <td>1652.87</td>\n",
       "      <td>F</td>\n",
       "    </tr>\n",
       "    <tr>\n",
       "      <th>879</th>\n",
       "      <td>879</td>\n",
       "      <td>AM</td>\n",
       "      <td>41</td>\n",
       "      <td>Pós-graduação</td>\n",
       "      <td>Avançado</td>\n",
       "      <td>3268.59</td>\n",
       "      <td>M</td>\n",
       "    </tr>\n",
       "    <tr>\n",
       "      <th>932</th>\n",
       "      <td>932</td>\n",
       "      <td>AM</td>\n",
       "      <td>51</td>\n",
       "      <td>Médio</td>\n",
       "      <td>Avançado</td>\n",
       "      <td>4196.63</td>\n",
       "      <td>M</td>\n",
       "    </tr>\n",
       "    <tr>\n",
       "      <th>944</th>\n",
       "      <td>944</td>\n",
       "      <td>AM</td>\n",
       "      <td>47</td>\n",
       "      <td>Superior</td>\n",
       "      <td>Avançado</td>\n",
       "      <td>4726.96</td>\n",
       "      <td>M</td>\n",
       "    </tr>\n",
       "    <tr>\n",
       "      <th>953</th>\n",
       "      <td>953</td>\n",
       "      <td>AM</td>\n",
       "      <td>41</td>\n",
       "      <td>Pós-graduação</td>\n",
       "      <td>Básico</td>\n",
       "      <td>5558.20</td>\n",
       "      <td>F</td>\n",
       "    </tr>\n",
       "  </tbody>\n",
       "</table>\n",
       "</div>"
      ],
      "text/plain": [
       "     Unnamed: 0 estado  idade   escolaridade nível de proficiência em inglês  \\\n",
       "2             2     AM     32    Fundamental                   Intermediário   \n",
       "5             5     AM     38    Fundamental                        Avançado   \n",
       "13           13     AM     57          Médio                          Básico   \n",
       "23           23     AM     38          Médio                   Intermediário   \n",
       "45           45     AM     31  Pós-graduação                          Básico   \n",
       "54           54     AM     25       Superior                   Intermediário   \n",
       "97           97     AM     41       Superior                   Intermediário   \n",
       "149         149     AM     21       Superior                          Básico   \n",
       "195         195     AM     49    Fundamental                          Básico   \n",
       "230         230     AM     33  Pós-graduação                   Intermediário   \n",
       "248         248     AM     57          Médio                        Avançado   \n",
       "258         258     AM     47          Médio                   Intermediário   \n",
       "330         330     AM     21  Pós-graduação                        Avançado   \n",
       "344         344     AM     63  Pós-graduação                          Básico   \n",
       "366         366     AM     44    Fundamental                        Avançado   \n",
       "407         407     AM     60  Pós-graduação                   Intermediário   \n",
       "423         423     AM     33  Pós-graduação                   Intermediário   \n",
       "425         425     AM     59  Pós-graduação                   Intermediário   \n",
       "454         454     AM     33    Fundamental                          Básico   \n",
       "483         483     AM     49  Pós-graduação                   Intermediário   \n",
       "486         486     AM     62  Pós-graduação                          Básico   \n",
       "599         599     AM     29          Médio                   Intermediário   \n",
       "601         601     AM     27    Fundamental                          Básico   \n",
       "664         664     AM     54    Fundamental                          Básico   \n",
       "687         687     AM     41    Fundamental                        Avançado   \n",
       "695         695     AM     45  Pós-graduação                          Básico   \n",
       "722         722     AM     35       Superior                        Avançado   \n",
       "733         733     AM     51       Superior                          Básico   \n",
       "756         756     AM     63       Superior                        Avançado   \n",
       "768         768     AM     56    Fundamental                          Básico   \n",
       "795         795     AM     44    Fundamental                   Intermediário   \n",
       "804         804     AM     22          Médio                        Avançado   \n",
       "822         822     AM     40       Superior                          Básico   \n",
       "858         858     AM     26       Superior                   Intermediário   \n",
       "879         879     AM     41  Pós-graduação                        Avançado   \n",
       "932         932     AM     51          Médio                        Avançado   \n",
       "944         944     AM     47       Superior                        Avançado   \n",
       "953         953     AM     41  Pós-graduação                          Básico   \n",
       "\n",
       "       renda sexo  \n",
       "2    3835.69    M  \n",
       "5    4441.57    F  \n",
       "13   2844.32    M  \n",
       "23   5075.40    M  \n",
       "45   5270.69    F  \n",
       "54   3478.98    M  \n",
       "97   1345.14    F  \n",
       "149  2625.18    F  \n",
       "195  1297.42    M  \n",
       "230  2373.03    M  \n",
       "248  3833.92    M  \n",
       "258  2960.44    M  \n",
       "330  3658.54    M  \n",
       "344  2510.56    F  \n",
       "366  3191.10    F  \n",
       "407  1929.92    F  \n",
       "423  4329.15    F  \n",
       "425  3709.00    F  \n",
       "454  2752.82    F  \n",
       "483  2426.30    F  \n",
       "486  4727.54    F  \n",
       "599  1772.39    F  \n",
       "601  3701.17    M  \n",
       "664  3122.30    M  \n",
       "687  2870.18    F  \n",
       "695  5579.71    M  \n",
       "722  3558.33    M  \n",
       "733  3609.14    F  \n",
       "756  3081.83    M  \n",
       "768  3028.18    M  \n",
       "795  4490.73    F  \n",
       "804  3436.94    F  \n",
       "822  2984.69    F  \n",
       "858  1652.87    F  \n",
       "879  3268.59    M  \n",
       "932  4196.63    M  \n",
       "944  4726.96    M  \n",
       "953  5558.20    F  "
      ]
     },
     "execution_count": 130,
     "metadata": {},
     "output_type": "execute_result"
    }
   ],
   "source": [
    "amazonas.head(5)"
   ]
  },
  {
   "cell_type": "code",
   "execution_count": 102,
   "id": "223d5672-94a4-4b42-bf8e-fce0d67747b7",
   "metadata": {},
   "outputs": [
    {
     "data": {
      "text/plain": [
       "21"
      ]
     },
     "execution_count": 102,
     "metadata": {},
     "output_type": "execute_result"
    }
   ],
   "source": [
    "am_superior_completo = len(amazonas.loc[amazonas['escolaridade'].isin(['Superior','Pós-graduação'])])\n",
    "am_superior_completo"
   ]
  },
  {
   "cell_type": "markdown",
   "id": "6676316b-2ec3-4dba-bfd0-7f561a9028aa",
   "metadata": {},
   "source": [
    "Probabilidade de ter ensino superior completo no Amazonas"
   ]
  },
  {
   "cell_type": "code",
   "execution_count": 106,
   "id": "37597ff2-504f-454b-8fb2-d107bcf6532c",
   "metadata": {},
   "outputs": [
    {
     "data": {
      "text/plain": [
       "0.5526315789473685"
      ]
     },
     "execution_count": 106,
     "metadata": {},
     "output_type": "execute_result"
    }
   ],
   "source": [
    "p_a = am_superior_completo/len(amazonas['Unnamed: 0'])\n",
    "p_a"
   ]
  },
  {
   "cell_type": "markdown",
   "id": "e1ec684b-a6d5-418c-b94c-54a15e480be2",
   "metadata": {},
   "source": [
    "Probabilidade de não ter ensino superior completo"
   ]
  },
  {
   "cell_type": "code",
   "execution_count": 108,
   "id": "5a39c86e-e01f-49b0-a1b0-3d43287546e0",
   "metadata": {},
   "outputs": [
    {
     "data": {
      "text/plain": [
       "0.4473684210526315"
      ]
     },
     "execution_count": 108,
     "metadata": {},
     "output_type": "execute_result"
    }
   ],
   "source": [
    "p_complementar = 1 - p_a\n",
    "p_complementar"
   ]
  },
  {
   "cell_type": "markdown",
   "id": "da2e9969-4579-4f4b-ba27-8886e2924c68",
   "metadata": {},
   "source": [
    "Probabilidade da quinta pessoa ter superior completo"
   ]
  },
  {
   "cell_type": "code",
   "execution_count": 116,
   "id": "a9952037-0730-435c-b171-5c0f942d069c",
   "metadata": {},
   "outputs": [
    {
     "data": {
      "text/plain": [
       "98.89196675900277"
      ]
     },
     "execution_count": 126,
     "metadata": {},
     "output_type": "execute_result"
    }
   ],
   "source": [
    "prob = ((p_complementar * 4)* p_a)*100\n",
    "prob"
   ]
  },
  {
   "cell_type": "markdown",
   "id": "c86721ab-258d-4e33-a471-512e48920652",
   "metadata": {},
   "source": [
    "### * 4. Considerando a renda das pessoas do nosso conjunto, podemos dizer que a renda de uma pessoa brasileira está na sua maioria em que faixa (faça faixa de 1.500 reais)? Qual é a sua função densidade de probabilidade?"
   ]
  },
  {
   "cell_type": "markdown",
   "id": "be6940fb-d349-4abd-847d-a01c664d9f58",
   "metadata": {},
   "source": [
    "Através dos 2 gráficos abaixo identificamos que 44.2% dos brasileiros possuem renda entre 3000 e 4500. No grafico de densidade observemos grande pico na faixa dos 3000 reais."
   ]
  },
  {
   "cell_type": "code",
   "execution_count": 210,
   "id": "c8a38223-32dc-4c66-b17d-0178c15ccf50",
   "metadata": {},
   "outputs": [
    {
     "name": "stdout",
     "output_type": "stream",
     "text": [
      "55\n",
      "414\n",
      "442\n",
      "89\n"
     ]
    }
   ],
   "source": [
    "renda_0_1500 = len(df.loc[(df['renda'] > 0) & (df['renda'] < 1500)])\n",
    "print(renda_0_1500 )\n",
    "\n",
    "renda_1500_3000= len(df.loc[(df['renda'] > 1500) & (df['renda'] < 3000)])\n",
    "print(renda_1500_3000)\n",
    "\n",
    "renda_3000_4500= len(df.loc[(df['renda'] > 3000) & (df['renda'] < 4500)])\n",
    "print(renda_3000_4500)\n",
    "\n",
    "renda_4500_6000= len(df.loc[(df['renda'] > 4500) & (df['renda'] < 6000)])\n",
    "print(renda_4500_6000)"
   ]
  },
  {
   "cell_type": "code",
   "execution_count": 211,
   "id": "4a94dbd4-333e-42c9-9615-3ea48f8a1eac",
   "metadata": {},
   "outputs": [],
   "source": [
    "rendas = [55,414,442,89]"
   ]
  },
  {
   "cell_type": "code",
   "execution_count": 214,
   "id": "7fe0f25a-6dd0-4292-9092-8725fcf266a6",
   "metadata": {},
   "outputs": [
    {
     "data": {
      "image/png": "[encoded data removed]",
      "text/plain": [
       "<Figure size 640x480 with 1 Axes>"
      ]
     },
     "metadata": {},
     "output_type": "display_data"
    }
   ],
   "source": [
    "sns.color_palette(\"Set2\")\n",
    "sns.set_palette(sns.light_palette(\"purple\", reverse=True))  # Tons de roxo em estilo pastel\n",
    "sns.set_style(\"white\")  # Definindo o estilo de fundo como branco\n",
    "plt.pie(x= rendas, labels=['renda de 0 a 1500','renda de 1500 a 3000','renda de 3000 a 4500','renda de 4500 a 6000'], autopct='%1.1f%%')\n",
    "plt.title('Faixa de rendas')\n",
    "plt.show()"
   ]
  },
  {
   "cell_type": "code",
   "execution_count": 215,
   "id": "6556ccd2-fdf8-48a0-8cbf-0d11f016dafa",
   "metadata": {},
   "outputs": [
    {
     "data": {
      "image/png": "[encoded data removed]",
      "text/plain": [
       "<Figure size 640x480 with 1 Axes>"
      ]
     },
     "metadata": {},
     "output_type": "display_data"
    }
   ],
   "source": [
    "sns.kdeplot(df[\"renda\"],  color='purple', label='Renda',fill=True)\n",
    "\n",
    "\n",
    "plt.legend()\n",
    "\n",
    "plt.xticks(range(0, 6001, 1500))\n",
    "\n",
    "plt.show()"
   ]
  },
  {
   "cell_type": "code",
   "execution_count": 117,
   "id": "d936bd88-dbf8-4704-869d-9c0c97ca085d",
   "metadata": {},
   "outputs": [
    {
     "data": {
      "text/plain": [
       "count    1000.000000\n",
       "mean     3082.537180\n",
       "std       996.572239\n",
       "min       103.740000\n",
       "25%      2425.815000\n",
       "50%      3076.415000\n",
       "75%      3714.487500\n",
       "max      5632.380000\n",
       "Name: renda, dtype: float64"
      ]
     },
     "execution_count": 117,
     "metadata": {},
     "output_type": "execute_result"
    }
   ],
   "source": [
    "df['renda'].describe()"
   ]
  },
  {
   "cell_type": "markdown",
   "id": "40a4a859-8ef4-479c-8aca-4cdb600c62e0",
   "metadata": {},
   "source": [
    "### 5. Calcule a média e a variância da renda da amostra. Depois faça a distribuição normal, inclua o gráfico.\n"
   ]
  },
  {
   "cell_type": "code",
   "execution_count": 225,
   "id": "f7fb099d-9896-4883-acd7-d4e1e2202b3a",
   "metadata": {},
   "outputs": [
    {
     "name": "stdout",
     "output_type": "stream",
     "text": [
      "A média amostral é: 3082.5371799999966\n",
      "A variância da amostra é: 993156.2281676152\n"
     ]
    }
   ],
   "source": [
    "media = df['renda'].mean()\n",
    "var = df['renda']\n",
    "var = sts.variance(var)\n",
    "\n",
    "print(f\"A média amostral é: {media}\")\n",
    "print(f\"A variância da amostra é: {var}\")"
   ]
  },
  {
   "cell_type": "code",
   "execution_count": 229,
   "id": "db5f7a51-bf72-4d37-8918-9572638da579",
   "metadata": {},
   "outputs": [
    {
     "data": {
      "image/png": "[encoded data removed]",
      "text/plain": [
       "<Figure size 640x480 with 1 Axes>"
      ]
     },
     "metadata": {},
     "output_type": "display_data"
    }
   ],
   "source": [
    "sns.histplot(df['renda'], bins=20, kde=True, color='purple', label='Redação')\n",
    "plt.legend()\n",
    "plt.show()"
   ]
  },
  {
   "cell_type": "code",
   "execution_count": 140,
   "id": "50adafa1-2024-4016-b83e-c3eee77785fc",
   "metadata": {},
   "outputs": [
    {
     "data": {
      "image/png": "[encoded data removed]",
      "text/plain": [
       "<Figure size 640x480 with 1 Axes>"
      ]
     },
     "metadata": {},
     "output_type": "display_data"
    }
   ],
   "source": [
    "stats.probplot(df['renda'], dist=\"norm\", plot=plt)\n",
    "plt.title('Diagrama de Probabilidade Normal (Q-Q Plot) da Renda')\n",
    "plt.xlabel('Quantis teóricos')\n",
    "plt.ylabel('Valores ordenados da renda')\n",
    "\n",
    "plt.grid(True)"
   ]
  },
  {
   "cell_type": "markdown",
   "id": "0a46de5e-5726-476a-850a-ce8292a33a51",
   "metadata": {},
   "source": [
    "### 6. Primeiro considere a probabilidade encontrada no nosso conjunto de pessoas com escolaridade de pós-graduação. Considerando a amostra de população brasileira com 1 milhão de habitantes, qual a probabilidade de encontrarmos 243 mil pessoas com pós-graduação?"
   ]
  },
  {
   "cell_type": "code",
   "execution_count": 11,
   "id": "3efde5d6-4db4-4734-acc8-7c3d4d65b7a3",
   "metadata": {},
   "outputs": [
    {
     "data": {
      "text/html": [
       "<div>\n",
       "<style scoped>\n",
       "    .dataframe tbody tr th:only-of-type {\n",
       "        vertical-align: middle;\n",
       "    }\n",
       "\n",
       "    .dataframe tbody tr th {\n",
       "        vertical-align: top;\n",
       "    }\n",
       "\n",
       "    .dataframe thead th {\n",
       "        text-align: right;\n",
       "    }\n",
       "</style>\n",
       "<table border=\"1\" class=\"dataframe\">\n",
       "  <thead>\n",
       "    <tr style=\"text-align: right;\">\n",
       "      <th></th>\n",
       "      <th>Unnamed: 0</th>\n",
       "      <th>estado</th>\n",
       "      <th>idade</th>\n",
       "      <th>escolaridade</th>\n",
       "      <th>nível de proficiência em inglês</th>\n",
       "      <th>renda</th>\n",
       "      <th>sexo</th>\n",
       "    </tr>\n",
       "  </thead>\n",
       "  <tbody>\n",
       "    <tr>\n",
       "      <th>11</th>\n",
       "      <td>11</td>\n",
       "      <td>SC</td>\n",
       "      <td>41</td>\n",
       "      <td>Pós-graduação</td>\n",
       "      <td>Intermediário</td>\n",
       "      <td>2396.01</td>\n",
       "      <td>M</td>\n",
       "    </tr>\n",
       "    <tr>\n",
       "      <th>15</th>\n",
       "      <td>15</td>\n",
       "      <td>GO</td>\n",
       "      <td>20</td>\n",
       "      <td>Pós-graduação</td>\n",
       "      <td>Básico</td>\n",
       "      <td>3254.42</td>\n",
       "      <td>M</td>\n",
       "    </tr>\n",
       "    <tr>\n",
       "      <th>16</th>\n",
       "      <td>16</td>\n",
       "      <td>RO</td>\n",
       "      <td>39</td>\n",
       "      <td>Pós-graduação</td>\n",
       "      <td>Básico</td>\n",
       "      <td>3337.60</td>\n",
       "      <td>M</td>\n",
       "    </tr>\n",
       "    <tr>\n",
       "      <th>18</th>\n",
       "      <td>18</td>\n",
       "      <td>MS</td>\n",
       "      <td>41</td>\n",
       "      <td>Pós-graduação</td>\n",
       "      <td>Avançado</td>\n",
       "      <td>2512.39</td>\n",
       "      <td>F</td>\n",
       "    </tr>\n",
       "    <tr>\n",
       "      <th>19</th>\n",
       "      <td>19</td>\n",
       "      <td>SP</td>\n",
       "      <td>61</td>\n",
       "      <td>Pós-graduação</td>\n",
       "      <td>Básico</td>\n",
       "      <td>2567.44</td>\n",
       "      <td>F</td>\n",
       "    </tr>\n",
       "    <tr>\n",
       "      <th>...</th>\n",
       "      <td>...</td>\n",
       "      <td>...</td>\n",
       "      <td>...</td>\n",
       "      <td>...</td>\n",
       "      <td>...</td>\n",
       "      <td>...</td>\n",
       "      <td>...</td>\n",
       "    </tr>\n",
       "    <tr>\n",
       "      <th>987</th>\n",
       "      <td>987</td>\n",
       "      <td>PA</td>\n",
       "      <td>28</td>\n",
       "      <td>Pós-graduação</td>\n",
       "      <td>Avançado</td>\n",
       "      <td>4088.75</td>\n",
       "      <td>M</td>\n",
       "    </tr>\n",
       "    <tr>\n",
       "      <th>988</th>\n",
       "      <td>988</td>\n",
       "      <td>SC</td>\n",
       "      <td>53</td>\n",
       "      <td>Pós-graduação</td>\n",
       "      <td>Básico</td>\n",
       "      <td>4884.59</td>\n",
       "      <td>F</td>\n",
       "    </tr>\n",
       "    <tr>\n",
       "      <th>992</th>\n",
       "      <td>992</td>\n",
       "      <td>DF</td>\n",
       "      <td>50</td>\n",
       "      <td>Pós-graduação</td>\n",
       "      <td>Básico</td>\n",
       "      <td>3140.89</td>\n",
       "      <td>F</td>\n",
       "    </tr>\n",
       "    <tr>\n",
       "      <th>994</th>\n",
       "      <td>994</td>\n",
       "      <td>DF</td>\n",
       "      <td>27</td>\n",
       "      <td>Pós-graduação</td>\n",
       "      <td>Avançado</td>\n",
       "      <td>3323.17</td>\n",
       "      <td>F</td>\n",
       "    </tr>\n",
       "    <tr>\n",
       "      <th>997</th>\n",
       "      <td>997</td>\n",
       "      <td>GO</td>\n",
       "      <td>27</td>\n",
       "      <td>Pós-graduação</td>\n",
       "      <td>Intermediário</td>\n",
       "      <td>1405.30</td>\n",
       "      <td>F</td>\n",
       "    </tr>\n",
       "  </tbody>\n",
       "</table>\n",
       "<p>253 rows × 7 columns</p>\n",
       "</div>"
      ],
      "text/plain": [
       "     Unnamed: 0 estado  idade   escolaridade nível de proficiência em inglês  \\\n",
       "11           11     SC     41  Pós-graduação                   Intermediário   \n",
       "15           15     GO     20  Pós-graduação                          Básico   \n",
       "16           16     RO     39  Pós-graduação                          Básico   \n",
       "18           18     MS     41  Pós-graduação                        Avançado   \n",
       "19           19     SP     61  Pós-graduação                          Básico   \n",
       "..          ...    ...    ...            ...                             ...   \n",
       "987         987     PA     28  Pós-graduação                        Avançado   \n",
       "988         988     SC     53  Pós-graduação                          Básico   \n",
       "992         992     DF     50  Pós-graduação                          Básico   \n",
       "994         994     DF     27  Pós-graduação                        Avançado   \n",
       "997         997     GO     27  Pós-graduação                   Intermediário   \n",
       "\n",
       "       renda sexo  \n",
       "11   2396.01    M  \n",
       "15   3254.42    M  \n",
       "16   3337.60    M  \n",
       "18   2512.39    F  \n",
       "19   2567.44    F  \n",
       "..       ...  ...  \n",
       "987  4088.75    M  \n",
       "988  4884.59    F  \n",
       "992  3140.89    F  \n",
       "994  3323.17    F  \n",
       "997  1405.30    F  \n",
       "\n",
       "[253 rows x 7 columns]"
      ]
     },
     "execution_count": 11,
     "metadata": {},
     "output_type": "execute_result"
    }
   ],
   "source": [
    "amostra_pos_graduacao = df.loc[df['escolaridade'] == 'Pós-graduação']\n",
    "amostra_pos_graduacao"
   ]
  },
  {
   "cell_type": "code",
   "execution_count": 13,
   "id": "97baae86-9703-4282-8015-0be567e41aad",
   "metadata": {},
   "outputs": [
    {
     "data": {
      "text/plain": [
       "0.253"
      ]
     },
     "execution_count": 13,
     "metadata": {},
     "output_type": "execute_result"
    }
   ],
   "source": [
    "prob = len(amostra_pos_graduacao)/len(df['Unnamed: 0'])\n",
    "prob"
   ]
  },
  {
   "cell_type": "code",
   "execution_count": 14,
   "id": "7236a93a-fb1e-4335-8893-68fc1290d2b9",
   "metadata": {},
   "outputs": [
    {
     "data": {
      "text/plain": [
       "25.3"
      ]
     },
     "execution_count": 14,
     "metadata": {},
     "output_type": "execute_result"
    }
   ],
   "source": [
    "prob * 100"
   ]
  },
  {
   "cell_type": "code",
   "execution_count": 22,
   "id": "ee457a1e-830a-44e9-b8e0-1a0b927ffea4",
   "metadata": {},
   "outputs": [],
   "source": [
    "x = 243000\n",
    "p = 0.243\n",
    "n = 1000000\n",
    "\n",
    "prob_1_milhao_hab = binom.pmf(x, n, p)"
   ]
  },
  {
   "cell_type": "code",
   "execution_count": 23,
   "id": "67cd9104-64d3-41b1-bd0d-7173e16c4920",
   "metadata": {},
   "outputs": [
    {
     "data": {
      "text/plain": [
       "0.0009301625042958282"
      ]
     },
     "execution_count": 23,
     "metadata": {},
     "output_type": "execute_result"
    }
   ],
   "source": [
    "prob_1_milhao_hab "
   ]
  },
  {
   "cell_type": "code",
   "execution_count": 24,
   "id": "4a70a055-f07b-4e1a-b096-ee9f84260436",
   "metadata": {},
   "outputs": [
    {
     "data": {
      "text/plain": [
       "0.09301625042958282"
      ]
     },
     "execution_count": 24,
     "metadata": {},
     "output_type": "execute_result"
    }
   ],
   "source": [
    "prob_1_milhao_hab = prob_1_milhao_hab * 100\n",
    "prob_1_milhao_hab"
   ]
  },
  {
   "cell_type": "code",
   "execution_count": 25,
   "id": "e800f6c0-d618-4bdf-8ff0-dbd816e8fd6c",
   "metadata": {},
   "outputs": [
    {
     "name": "stdout",
     "output_type": "stream",
     "text": [
      "A probabilidade de se encontrar 243000 mil pessoas com pós-graduação em uma população de 1000000 é de 0.09%\n"
     ]
    }
   ],
   "source": [
    "print(f\"A probabilidade de se encontrar {x} mil pessoas com pós-graduação em uma população de {n} é de {prob_1_milhao_hab:.2f}%\")"
   ]
  },
  {
   "cell_type": "markdown",
   "id": "8ceb46a5-c633-494e-9d78-0c3a0a282319",
   "metadata": {},
   "source": [
    "### 7. Somando as densidades nós temos a função de densidade acumulada. Considerando a coluna ‘Escolaridade’ faça a função de densidade acumulada discreta para cada nível de escolaridade."
   ]
  },
  {
   "cell_type": "code",
   "execution_count": 46,
   "id": "b76ab620-94b9-4aca-b01e-ef8274b8ecf6",
   "metadata": {},
   "outputs": [
    {
     "data": {
      "text/plain": [
       "Fundamental      266\n",
       "Pós-graduação    253\n",
       "Superior         243\n",
       "Médio            238\n",
       "Name: escolaridade, dtype: int64"
      ]
     },
     "execution_count": 46,
     "metadata": {},
     "output_type": "execute_result"
    }
   ],
   "source": [
    "df['escolaridade'].value_counts()"
   ]
  },
  {
   "cell_type": "code",
   "execution_count": 27,
   "id": "88732e2f-08e9-4fa8-af97-995997598ea4",
   "metadata": {},
   "outputs": [],
   "source": [
    "df['escolaridade'].value_counts()\n",
    "\n",
    "fundamental    = 266/1000\n",
    "pos_graduacao  = 253/1000\n",
    "superior       = 243/1000\n",
    "medio          = 238/1000"
   ]
  },
  {
   "cell_type": "code",
   "execution_count": 34,
   "id": "79e2d05b-8c8f-4cc0-bd65-1b34423d731c",
   "metadata": {},
   "outputs": [
    {
     "data": {
      "text/plain": [
       "[0.266, 0.253, 0.243, 0.238]"
      ]
     },
     "execution_count": 34,
     "metadata": {},
     "output_type": "execute_result"
    }
   ],
   "source": [
    "lista = [fundamental, pos_graduacao,superior,medio]\n",
    "lista"
   ]
  },
  {
   "cell_type": "code",
   "execution_count": 36,
   "id": "bebc5c1d-54af-47c8-9b42-ada1adc28a9c",
   "metadata": {},
   "outputs": [
    {
     "data": {
      "text/plain": [
       "array([0.266, 0.519, 0.762, 1.   ])"
      ]
     },
     "execution_count": 36,
     "metadata": {},
     "output_type": "execute_result"
    }
   ],
   "source": [
    "densidade_acumulada = np.cumsum(lista)\n",
    "densidade_acumulada"
   ]
  },
  {
   "cell_type": "code",
   "execution_count": 44,
   "id": "c7687859-828e-48c5-8183-aaba7409ae12",
   "metadata": {},
   "outputs": [
    {
     "data": {
      "image/png": "[encoded data removed]",
      "text/plain": [
       "<Figure size 640x480 with 1 Axes>"
      ]
     },
     "metadata": {},
     "output_type": "display_data"
    }
   ],
   "source": [
    "plt.plot(densidade_acumulada, label=\"Função densidade Acumulada\", color='purple') \n",
    "plt.xticks(range(0,4,1))\n",
    "plt.xlabel('Variáveis Aleatórias')\n",
    "plt.ylabel('Probabilidade')\n",
    "plt.legend() \n",
    "plt.show()"
   ]
  },
  {
   "cell_type": "markdown",
   "id": "1392cb3f-f87e-4cb9-9b8a-dfa1eb0527ed",
   "metadata": {},
   "source": [
    "### 8. Qual a margem de erro amostral da proporção populacional considerando a proporção de pessoas com nível de inglês intermediário?"
   ]
  },
  {
   "cell_type": "code",
   "execution_count": 47,
   "id": "fa52932d-6c39-40ba-935d-3866bf15a434",
   "metadata": {},
   "outputs": [
    {
     "data": {
      "text/html": [
       "<div>\n",
       "<style scoped>\n",
       "    .dataframe tbody tr th:only-of-type {\n",
       "        vertical-align: middle;\n",
       "    }\n",
       "\n",
       "    .dataframe tbody tr th {\n",
       "        vertical-align: top;\n",
       "    }\n",
       "\n",
       "    .dataframe thead th {\n",
       "        text-align: right;\n",
       "    }\n",
       "</style>\n",
       "<table border=\"1\" class=\"dataframe\">\n",
       "  <thead>\n",
       "    <tr style=\"text-align: right;\">\n",
       "      <th></th>\n",
       "      <th>Unnamed: 0</th>\n",
       "      <th>estado</th>\n",
       "      <th>idade</th>\n",
       "      <th>escolaridade</th>\n",
       "      <th>nível de proficiência em inglês</th>\n",
       "      <th>renda</th>\n",
       "      <th>sexo</th>\n",
       "    </tr>\n",
       "  </thead>\n",
       "  <tbody>\n",
       "    <tr>\n",
       "      <th>0</th>\n",
       "      <td>0</td>\n",
       "      <td>MA</td>\n",
       "      <td>56</td>\n",
       "      <td>Fundamental</td>\n",
       "      <td>Intermediário</td>\n",
       "      <td>4006.29</td>\n",
       "      <td>F</td>\n",
       "    </tr>\n",
       "    <tr>\n",
       "      <th>1</th>\n",
       "      <td>1</td>\n",
       "      <td>BA</td>\n",
       "      <td>46</td>\n",
       "      <td>Superior</td>\n",
       "      <td>Básico</td>\n",
       "      <td>2423.11</td>\n",
       "      <td>M</td>\n",
       "    </tr>\n",
       "    <tr>\n",
       "      <th>2</th>\n",
       "      <td>2</td>\n",
       "      <td>AM</td>\n",
       "      <td>32</td>\n",
       "      <td>Fundamental</td>\n",
       "      <td>Intermediário</td>\n",
       "      <td>3835.69</td>\n",
       "      <td>M</td>\n",
       "    </tr>\n",
       "  </tbody>\n",
       "</table>\n",
       "</div>"
      ],
      "text/plain": [
       "   Unnamed: 0 estado  idade escolaridade nível de proficiência em inglês  \\\n",
       "0           0     MA     56  Fundamental                   Intermediário   \n",
       "1           1     BA     46     Superior                          Básico   \n",
       "2           2     AM     32  Fundamental                   Intermediário   \n",
       "\n",
       "     renda sexo  \n",
       "0  4006.29    F  \n",
       "1  2423.11    M  \n",
       "2  3835.69    M  "
      ]
     },
     "execution_count": 47,
     "metadata": {},
     "output_type": "execute_result"
    }
   ],
   "source": [
    "df.head(3)"
   ]
  },
  {
   "cell_type": "code",
   "execution_count": 53,
   "id": "c5d134df-c236-486a-b91d-8110d8af3854",
   "metadata": {},
   "outputs": [
    {
     "data": {
      "text/plain": [
       "Avançado         344\n",
       "Intermediário    329\n",
       "Básico           327\n",
       "Name: nível de proficiência em inglês, dtype: int64"
      ]
     },
     "execution_count": 53,
     "metadata": {},
     "output_type": "execute_result"
    }
   ],
   "source": [
    "df['nível de proficiência em inglês'].value_counts()"
   ]
  },
  {
   "cell_type": "code",
   "execution_count": 56,
   "id": "e34a206a-e36e-4657-9224-7482ff2694bb",
   "metadata": {},
   "outputs": [
    {
     "data": {
      "text/plain": [
       "0.329"
      ]
     },
     "execution_count": 56,
     "metadata": {},
     "output_type": "execute_result"
    }
   ],
   "source": [
    "ing_intermediario = 329\n",
    "proporcao = 329/1000\n",
    "proporcao"
   ]
  },
  {
   "cell_type": "code",
   "execution_count": 58,
   "id": "1b547839-849b-4b24-a2ad-4a06ca1a6a94",
   "metadata": {},
   "outputs": [
    {
     "data": {
      "text/plain": [
       "0.02897302361680603"
      ]
     },
     "execution_count": 58,
     "metadata": {},
     "output_type": "execute_result"
    }
   ],
   "source": [
    "formula = (proporcao*(1-proporcao)/len(df['Unnamed: 0']))\n",
    "raiz_quadrada = math.sqrt(formula)\n",
    "margem_erro = 1.95*raiz_quadrada\n",
    "margem_erro"
   ]
  },
  {
   "cell_type": "code",
   "execution_count": 59,
   "id": "73ae64b5-6445-40a8-98cd-4ca0e1d3169a",
   "metadata": {},
   "outputs": [],
   "source": [
    "intervalo_confianca_mais = (proporcao + margem_erro)*100\n",
    "intervalo_confianca_menos = (proporcao - margem_erro)*100"
   ]
  },
  {
   "cell_type": "code",
   "execution_count": 63,
   "id": "86542e6f-e5a7-4c26-a0fd-d8ecd199e970",
   "metadata": {},
   "outputs": [
    {
     "name": "stdout",
     "output_type": "stream",
     "text": [
      "Entre 30.00% e 35.80% dos entrevistados possuem inglês nível intermediário com nível de confiança de 95% e margem de erro de +-3%\n"
     ]
    }
   ],
   "source": [
    "print(f\"Entre {intervalo_confianca_menos:.2f}% e {intervalo_confianca_mais:.2f}% dos entrevistados possuem inglês nível intermediário com nível de confiança de 95% e margem de erro de +-3%\")"
   ]
  },
  {
   "cell_type": "markdown",
   "id": "168f0749-b056-4b21-a940-7345b2684376",
   "metadata": {},
   "source": [
    "### 9. Calcula a renda da população. Qual a probabilidade de encontrar 60 pessoas com uma renda mil reais superior à média?"
   ]
  },
  {
   "cell_type": "code",
   "execution_count": 64,
   "id": "8b78d253-7e8c-4b96-8c6a-0eee679b35e0",
   "metadata": {},
   "outputs": [
    {
     "data": {
      "text/html": [
       "<div>\n",
       "<style scoped>\n",
       "    .dataframe tbody tr th:only-of-type {\n",
       "        vertical-align: middle;\n",
       "    }\n",
       "\n",
       "    .dataframe tbody tr th {\n",
       "        vertical-align: top;\n",
       "    }\n",
       "\n",
       "    .dataframe thead th {\n",
       "        text-align: right;\n",
       "    }\n",
       "</style>\n",
       "<table border=\"1\" class=\"dataframe\">\n",
       "  <thead>\n",
       "    <tr style=\"text-align: right;\">\n",
       "      <th></th>\n",
       "      <th>Unnamed: 0</th>\n",
       "      <th>estado</th>\n",
       "      <th>idade</th>\n",
       "      <th>escolaridade</th>\n",
       "      <th>nível de proficiência em inglês</th>\n",
       "      <th>renda</th>\n",
       "      <th>sexo</th>\n",
       "    </tr>\n",
       "  </thead>\n",
       "  <tbody>\n",
       "    <tr>\n",
       "      <th>0</th>\n",
       "      <td>0</td>\n",
       "      <td>MA</td>\n",
       "      <td>56</td>\n",
       "      <td>Fundamental</td>\n",
       "      <td>Intermediário</td>\n",
       "      <td>4006.29</td>\n",
       "      <td>F</td>\n",
       "    </tr>\n",
       "    <tr>\n",
       "      <th>1</th>\n",
       "      <td>1</td>\n",
       "      <td>BA</td>\n",
       "      <td>46</td>\n",
       "      <td>Superior</td>\n",
       "      <td>Básico</td>\n",
       "      <td>2423.11</td>\n",
       "      <td>M</td>\n",
       "    </tr>\n",
       "    <tr>\n",
       "      <th>2</th>\n",
       "      <td>2</td>\n",
       "      <td>AM</td>\n",
       "      <td>32</td>\n",
       "      <td>Fundamental</td>\n",
       "      <td>Intermediário</td>\n",
       "      <td>3835.69</td>\n",
       "      <td>M</td>\n",
       "    </tr>\n",
       "    <tr>\n",
       "      <th>3</th>\n",
       "      <td>3</td>\n",
       "      <td>CE</td>\n",
       "      <td>60</td>\n",
       "      <td>Superior</td>\n",
       "      <td>Básico</td>\n",
       "      <td>1870.29</td>\n",
       "      <td>M</td>\n",
       "    </tr>\n",
       "    <tr>\n",
       "      <th>4</th>\n",
       "      <td>4</td>\n",
       "      <td>SE</td>\n",
       "      <td>25</td>\n",
       "      <td>Fundamental</td>\n",
       "      <td>Avançado</td>\n",
       "      <td>3529.80</td>\n",
       "      <td>M</td>\n",
       "    </tr>\n",
       "  </tbody>\n",
       "</table>\n",
       "</div>"
      ],
      "text/plain": [
       "   Unnamed: 0 estado  idade escolaridade nível de proficiência em inglês  \\\n",
       "0           0     MA     56  Fundamental                   Intermediário   \n",
       "1           1     BA     46     Superior                          Básico   \n",
       "2           2     AM     32  Fundamental                   Intermediário   \n",
       "3           3     CE     60     Superior                          Básico   \n",
       "4           4     SE     25  Fundamental                        Avançado   \n",
       "\n",
       "     renda sexo  \n",
       "0  4006.29    F  \n",
       "1  2423.11    M  \n",
       "2  3835.69    M  \n",
       "3  1870.29    M  \n",
       "4  3529.80    M  "
      ]
     },
     "execution_count": 64,
     "metadata": {},
     "output_type": "execute_result"
    }
   ],
   "source": [
    "df.head(5)"
   ]
  },
  {
   "cell_type": "code",
   "execution_count": 85,
   "id": "d712ec5d-4a0a-4c05-8d29-d191e928fbfd",
   "metadata": {},
   "outputs": [
    {
     "data": {
      "text/plain": [
       "4082.5371799999966"
      ]
     },
     "execution_count": 85,
     "metadata": {},
     "output_type": "execute_result"
    }
   ],
   "source": [
    "renda = df['renda'].mean() + 1000\n",
    "renda"
   ]
  },
  {
   "cell_type": "code",
   "execution_count": 93,
   "id": "03d65577-8d8e-4727-81d1-590f0cd01738",
   "metadata": {},
   "outputs": [
    {
     "name": "stdout",
     "output_type": "stream",
     "text": [
      "161 pessoas\n"
     ]
    }
   ],
   "source": [
    "superior = df[df['renda'] > renda]\n",
    "print(superior.shape[0],\"pessoas\")\n",
    "superior = len(superior['Unnamed: 0'])"
   ]
  },
  {
   "cell_type": "code",
   "execution_count": 117,
   "id": "df9a25b5-f524-4092-bd5e-4732de0bd65c",
   "metadata": {
    "tags": []
   },
   "outputs": [
    {
     "name": "stdout",
     "output_type": "stream",
     "text": [
      "Probabilidade de ter renda superior em mil reais em relação a média 0.161%\n"
     ]
    }
   ],
   "source": [
    "prob_renda = (superior/len(df['Unnamed: 0']))\n",
    "print(f\"Probabilidade de ter renda superior em mil reais em relação a média {prob_renda}%\",)"
   ]
  },
  {
   "cell_type": "markdown",
   "id": "193530b8-2443-4662-a4da-68e3fc1cb051",
   "metadata": {},
   "source": [
    "Probabilidade binomial"
   ]
  },
  {
   "cell_type": "code",
   "execution_count": 118,
   "id": "52af1106-5e8a-434f-81f6-528b45fa8050",
   "metadata": {},
   "outputs": [
    {
     "name": "stdout",
     "output_type": "stream",
     "text": [
      "Probabilidade de 60 pessoas terem renda superior em mil reais em relação a média 1.0995205651637739e-20\n"
     ]
    }
   ],
   "source": [
    "x = 60\n",
    "p = 0.161\n",
    "n = 1000\n",
    "\n",
    "prob_60_pessoas = binom.pmf(x, n, p)\n",
    "prob_60_pessoas = prob_60_pessoas * 100\n",
    "print(f\"Probabilidade de 60 pessoas terem renda superior em mil reais em relação a média {prob_60_pessoas}\",)"
   ]
  },
  {
   "cell_type": "markdown",
   "id": "82d3d105-7104-44c0-bd14-d34d1c8740b0",
   "metadata": {},
   "source": [
    "### 10. Qual a probabilidade de escolhermos alguém do Sudeste que seja homem, com ensino fundamental e com renda maior que 2 mil reais por mês?"
   ]
  },
  {
   "cell_type": "code",
   "execution_count": 122,
   "id": "acd090ad-00df-4ad9-a0bb-4557afb80f34",
   "metadata": {},
   "outputs": [
    {
     "data": {
      "text/html": [
       "<div>\n",
       "<style scoped>\n",
       "    .dataframe tbody tr th:only-of-type {\n",
       "        vertical-align: middle;\n",
       "    }\n",
       "\n",
       "    .dataframe tbody tr th {\n",
       "        vertical-align: top;\n",
       "    }\n",
       "\n",
       "    .dataframe thead th {\n",
       "        text-align: right;\n",
       "    }\n",
       "</style>\n",
       "<table border=\"1\" class=\"dataframe\">\n",
       "  <thead>\n",
       "    <tr style=\"text-align: right;\">\n",
       "      <th></th>\n",
       "      <th>Unnamed: 0</th>\n",
       "      <th>estado</th>\n",
       "      <th>idade</th>\n",
       "      <th>escolaridade</th>\n",
       "      <th>nível de proficiência em inglês</th>\n",
       "      <th>renda</th>\n",
       "      <th>sexo</th>\n",
       "    </tr>\n",
       "  </thead>\n",
       "  <tbody>\n",
       "    <tr>\n",
       "      <th>12</th>\n",
       "      <td>12</td>\n",
       "      <td>SP</td>\n",
       "      <td>53</td>\n",
       "      <td>Médio</td>\n",
       "      <td>Intermediário</td>\n",
       "      <td>3086.59</td>\n",
       "      <td>F</td>\n",
       "    </tr>\n",
       "    <tr>\n",
       "      <th>19</th>\n",
       "      <td>19</td>\n",
       "      <td>SP</td>\n",
       "      <td>61</td>\n",
       "      <td>Pós-graduação</td>\n",
       "      <td>Básico</td>\n",
       "      <td>2567.44</td>\n",
       "      <td>F</td>\n",
       "    </tr>\n",
       "    <tr>\n",
       "      <th>22</th>\n",
       "      <td>22</td>\n",
       "      <td>SP</td>\n",
       "      <td>19</td>\n",
       "      <td>Médio</td>\n",
       "      <td>Básico</td>\n",
       "      <td>3289.77</td>\n",
       "      <td>F</td>\n",
       "    </tr>\n",
       "    <tr>\n",
       "      <th>39</th>\n",
       "      <td>39</td>\n",
       "      <td>SP</td>\n",
       "      <td>38</td>\n",
       "      <td>Pós-graduação</td>\n",
       "      <td>Avançado</td>\n",
       "      <td>3770.87</td>\n",
       "      <td>F</td>\n",
       "    </tr>\n",
       "    <tr>\n",
       "      <th>40</th>\n",
       "      <td>40</td>\n",
       "      <td>MG</td>\n",
       "      <td>26</td>\n",
       "      <td>Superior</td>\n",
       "      <td>Básico</td>\n",
       "      <td>1521.41</td>\n",
       "      <td>M</td>\n",
       "    </tr>\n",
       "    <tr>\n",
       "      <th>...</th>\n",
       "      <td>...</td>\n",
       "      <td>...</td>\n",
       "      <td>...</td>\n",
       "      <td>...</td>\n",
       "      <td>...</td>\n",
       "      <td>...</td>\n",
       "      <td>...</td>\n",
       "    </tr>\n",
       "    <tr>\n",
       "      <th>964</th>\n",
       "      <td>964</td>\n",
       "      <td>RJ</td>\n",
       "      <td>55</td>\n",
       "      <td>Médio</td>\n",
       "      <td>Básico</td>\n",
       "      <td>2181.80</td>\n",
       "      <td>F</td>\n",
       "    </tr>\n",
       "    <tr>\n",
       "      <th>969</th>\n",
       "      <td>969</td>\n",
       "      <td>ES</td>\n",
       "      <td>43</td>\n",
       "      <td>Pós-graduação</td>\n",
       "      <td>Básico</td>\n",
       "      <td>3955.31</td>\n",
       "      <td>M</td>\n",
       "    </tr>\n",
       "    <tr>\n",
       "      <th>979</th>\n",
       "      <td>979</td>\n",
       "      <td>MG</td>\n",
       "      <td>37</td>\n",
       "      <td>Médio</td>\n",
       "      <td>Intermediário</td>\n",
       "      <td>3630.81</td>\n",
       "      <td>M</td>\n",
       "    </tr>\n",
       "    <tr>\n",
       "      <th>985</th>\n",
       "      <td>985</td>\n",
       "      <td>ES</td>\n",
       "      <td>55</td>\n",
       "      <td>Fundamental</td>\n",
       "      <td>Intermediário</td>\n",
       "      <td>2040.56</td>\n",
       "      <td>M</td>\n",
       "    </tr>\n",
       "    <tr>\n",
       "      <th>999</th>\n",
       "      <td>999</td>\n",
       "      <td>MG</td>\n",
       "      <td>19</td>\n",
       "      <td>Superior</td>\n",
       "      <td>Intermediário</td>\n",
       "      <td>2467.30</td>\n",
       "      <td>F</td>\n",
       "    </tr>\n",
       "  </tbody>\n",
       "</table>\n",
       "<p>157 rows × 7 columns</p>\n",
       "</div>"
      ],
      "text/plain": [
       "     Unnamed: 0 estado  idade   escolaridade nível de proficiência em inglês  \\\n",
       "12           12     SP     53          Médio                   Intermediário   \n",
       "19           19     SP     61  Pós-graduação                          Básico   \n",
       "22           22     SP     19          Médio                          Básico   \n",
       "39           39     SP     38  Pós-graduação                        Avançado   \n",
       "40           40     MG     26       Superior                          Básico   \n",
       "..          ...    ...    ...            ...                             ...   \n",
       "964         964     RJ     55          Médio                          Básico   \n",
       "969         969     ES     43  Pós-graduação                          Básico   \n",
       "979         979     MG     37          Médio                   Intermediário   \n",
       "985         985     ES     55    Fundamental                   Intermediário   \n",
       "999         999     MG     19       Superior                   Intermediário   \n",
       "\n",
       "       renda sexo  \n",
       "12   3086.59    F  \n",
       "19   2567.44    F  \n",
       "22   3289.77    F  \n",
       "39   3770.87    F  \n",
       "40   1521.41    M  \n",
       "..       ...  ...  \n",
       "964  2181.80    F  \n",
       "969  3955.31    M  \n",
       "979  3630.81    M  \n",
       "985  2040.56    M  \n",
       "999  2467.30    F  \n",
       "\n",
       "[157 rows x 7 columns]"
      ]
     },
     "execution_count": 122,
     "metadata": {},
     "output_type": "execute_result"
    }
   ],
   "source": [
    "df_sudeste = df[df['estado'].isin(['SP','MG','ES','RJ'])]\n",
    "df_sudeste"
   ]
  },
  {
   "cell_type": "code",
   "execution_count": 126,
   "id": "92d5ad58-5a44-4e94-b1d9-799b3cba65e9",
   "metadata": {},
   "outputs": [
    {
     "data": {
      "text/plain": [
       "19"
      ]
     },
     "execution_count": 126,
     "metadata": {},
     "output_type": "execute_result"
    }
   ],
   "source": [
    "df_sudeste_homem_escolaridade_renda = df_sudeste[(df_sudeste['sexo'] == 'M') & (df_sudeste['escolaridade'] == 'Fundamental') & (df_sudeste['renda'] > 2000)]\n",
    "df_sudeste_homem_escolaridade_renda['Unnamed: 0'].count()"
   ]
  },
  {
   "cell_type": "code",
   "execution_count": 130,
   "id": "bf546936-77f1-4a49-9ca5-21569cbf9a09",
   "metadata": {},
   "outputs": [
    {
     "name": "stdout",
     "output_type": "stream",
     "text": [
      "A probabilidade de alguém ser do sudeste, genero masculino, ensino fundamental com a renda maior que 2 mil é de: 1.9%\n"
     ]
    }
   ],
   "source": [
    "prob = df_sudeste_homem_escolaridade_renda['Unnamed: 0'].count()/len(df['Unnamed: 0'])\n",
    "print(f\"A probabilidade de alguém ser do sudeste, genero masculino, ensino fundamental com a renda maior que 2 mil é de: {prob * 100}%\")"
   ]
  },
  {
   "cell_type": "code",
   "execution_count": null,
   "id": "f139e92a-0691-4bea-a597-8670e282de3d",
   "metadata": {},
   "outputs": [],
   "source": []
  }
 ],
 "metadata": {
  "kernelspec": {
   "display_name": "Python 3 (ipykernel)",
   "language": "python",
   "name": "python3"
  },
  "language_info": {
   "codemirror_mode": {
    "name": "ipython",
    "version": 3
   },
   "file_extension": ".py",
   "mimetype": "text/x-python",
   "name": "python",
   "nbconvert_exporter": "python",
   "pygments_lexer": "ipython3",
   "version": "3.9.18"
  }
 },
 "nbformat": 4,
 "nbformat_minor": 5
}
